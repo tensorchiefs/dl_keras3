{
 "cells": [
  {
   "cell_type": "markdown",
   "id": "3d0ef439",
   "metadata": {
    "id": "3d0ef439"
   },
   "source": [
    "# Probabilistic Modeling with different Keras Backends (tf_keras)"
   ]
  },
  {
   "cell_type": "code",
   "execution_count": 33,
   "id": "b4aed363",
   "metadata": {
    "id": "b4aed363"
   },
   "outputs": [],
   "source": [
    "import numpy as np\n",
    "import matplotlib.pyplot as plt\n",
    "\n",
    "# Generate training data\n",
    "np.random.seed(42)\n",
    "x_train = np.random.uniform(-10, 10, (1000, 1)).astype(np.float32)\n",
    "y_train = (2 * x_train + np.random.normal(0, np.abs(x_train) + 1, (1000, 1))).astype(np.float32)"
   ]
  },
  {
   "cell_type": "markdown",
   "id": "1d553e3f",
   "metadata": {
    "id": "1d553e3f"
   },
   "source": [
    "# Using tf_keras (Nov, 2024)\n",
    "\n",
    "Before Keras 3.0, Keras was part of tensorflow and had a tight integration. Especially the output of a Keras model `model(x)` could be a probability distribution (tfp_distribution). From that you could: sample, calculate the pdf, cdf and so on. Downsides you have to install tfp, and that causes quite some pain in the past. \n",
    "\n",
    "```python\n",
    "dist = model(x_test)\n",
    "dist.sample(5) # Sample from the distribution\n",
    "dist.cdf(0.0) # # Compute CDF values (100, 1)\n",
    "...\n",
    "```"
   ]
  },
  {
   "cell_type": "markdown",
   "id": "1LbcAYPy4lWC",
   "metadata": {
    "id": "1LbcAYPy4lWC"
   },
   "source": [
    "The trick is the `tfp.layers.DistributionLambda` layer, which integrates a distrubution in the keras layer. It's really beautiful to calculate the NLL see code below."
   ]
  },
  {
   "cell_type": "code",
   "execution_count": 39,
   "id": "XrSyhTJWz8kY",
   "metadata": {
    "colab": {
     "base_uri": "https://localhost:8080/"
    },
    "id": "XrSyhTJWz8kY",
    "outputId": "ada10863-d3e2-42a7-bfb5-c3412fb9ce67"
   },
   "outputs": [
    {
     "name": "stdout",
     "output_type": "stream",
     "text": [
      "tf_keras version 2.17.0\n",
      "tfp version      0.24.0\n",
      "tf version       2.17.1\n",
      "(5, 100, 1)\n",
      "(100, 1)\n"
     ]
    }
   ],
   "source": [
    "import tensorflow_probability as tfp\n",
    "import numpy as np\n",
    "import tf_keras #<------ Note that you are not using tf.keras\n",
    "import tensorflow as tf\n",
    "\n",
    "print(F'tf_keras version {tf_keras.__version__}')\n",
    "print(F'tfp version      {tfp.__version__}')\n",
    "print(F'tf version       {tf.__version__}')\n",
    "\n",
    "tfd = tfp.distributions\n",
    "tfpl = tfp.layers\n",
    "\n",
    "def my_distribution(inputs):\n",
    "    return tfp.distributions.Normal(loc=inputs[..., :1],\n",
    "                                    scale=1e-3 + tf.math.softplus(0.05 * inputs[...,1:]))\n",
    "\n",
    "inputs = tf_keras.Input(shape=(1,))\n",
    "hidden = tf_keras.layers.Dense(10, activation='relu')(inputs)\n",
    "outputs = tf_keras.layers.Dense(2)(hidden)\n",
    "out_dist = tfp.layers.DistributionLambda(my_distribution)(outputs)\n",
    "model = tf_keras.Model(inputs=inputs, outputs=out_dist)\n",
    "\n",
    "# Look how nicely the likelihood can be calculated\n",
    "def nll(y_true, cpd):\n",
    "    return -cpd.log_prob(y_true)\n",
    "\n",
    "model.compile(optimizer=tf_keras.optimizers.Adam(learning_rate=0.01), loss=nll)\n",
    "\n",
    "# Train the model\n",
    "model.fit(x_train, y_train, epochs=2, verbose=False)\n",
    "\n",
    "# Predict and get the distribution\n",
    "x_test = np.linspace(-10, 10, 100).reshape(-1, 1)\n",
    "dist = model(x_test)\n",
    "\n",
    "print(dist.sample(5).shape) # Sample from the distribution\n",
    "print(dist.cdf(0.0).shape) # # Compute CDF values (100, 1)"
   ]
  }
 ],
 "metadata": {
  "colab": {
   "provenance": []
  },
  "kernelspec": {
   "display_name": "mldl_htwg",
   "language": "python",
   "name": "python3"
  },
  "language_info": {
   "codemirror_mode": {
    "name": "ipython",
    "version": 3
   },
   "file_extension": ".py",
   "mimetype": "text/x-python",
   "name": "python",
   "nbconvert_exporter": "python",
   "pygments_lexer": "ipython3",
   "version": "3.10.13"
  }
 },
 "nbformat": 4,
 "nbformat_minor": 5
}
